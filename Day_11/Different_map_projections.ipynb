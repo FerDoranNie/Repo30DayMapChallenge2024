{
 "cells": [
  {
   "cell_type": "code",
   "execution_count": 243,
   "metadata": {},
   "outputs": [],
   "source": [
    "import pandas as pd\n",
    "import numpy as np \n",
    "import geopandas as gpd\n",
    "import json\n",
    "import matplotlib.pyplot as plt\n",
    "from cartopy import crs as ccrs\n",
    "import re \n",
    "import matplotlib.pyplot as plt\n",
    "import seaborn as sns \n",
    "import imageio\n",
    "import os"
   ]
  },
  {
   "cell_type": "code",
   "execution_count": 244,
   "metadata": {},
   "outputs": [],
   "source": [
    "worldData = gpd.read_file('../Data/ne_50m_admin_0_countries/ne_50m_admin_0_countries.shp')"
   ]
  },
  {
   "cell_type": "code",
   "execution_count": 245,
   "metadata": {},
   "outputs": [],
   "source": [
    "worldData.columns =  [x.lower() for x in  worldData.columns]"
   ]
  },
  {
   "cell_type": "code",
   "execution_count": 246,
   "metadata": {},
   "outputs": [],
   "source": [
    "worldData= worldData[['featurecla', 'scalerank', 'labelrank', 'sovereignt', 'sov_a3','adm0_diff', 'level', 'type', 'tlc', 'admin', 'adm0_a3', 'geounit',\n",
    "              'name', 'name_long', 'postal', 'economy', 'iso_a3', 'adm0_iso', 'wikidataid', 'name_en', 'name_es', 'continent','region_un',  'geometry']]"
   ]
  },
  {
   "cell_type": "code",
   "execution_count": null,
   "metadata": {},
   "outputs": [],
   "source": [
    "projections = {\n",
    "    \"EPSG:4326\": \"WGS 84 (Lat-Long)\",           # Proyección geográfica básica\n",
    "   # \"EPSG:3857\": \"Web Mercator\",                # Proyección común de mapas web\n",
    "    \"ESRI:54030\": \"Mollweide\",                  # Proyección de Mollweide\n",
    "    \"ESRI:54034\": \"Mercator\",                   # Proyección de Mercator\n",
    "    \"ESRI:54009\": \"Robinson\",                   # Proyección de Robinson\n",
    "    \"ESRI:54008\": \"Sinusoidal\",                 # Proyección Sinusoidal\n",
    "    \"ESRI:54012\": \"Equal Earth\",                # Proyección Equal Earth\n",
    "}"
   ]
  },
  {
   "cell_type": "code",
   "execution_count": 248,
   "metadata": {},
   "outputs": [],
   "source": [
    "images_list=[]"
   ]
  },
  {
   "cell_type": "code",
   "execution_count": 249,
   "metadata": {},
   "outputs": [],
   "source": [
    "#worldData = worldData.to_crs(\"EPSG:4326\")\n",
    "#xlim = worldData.total_bounds[[0, 2]]\n",
    "#ylim = worldData.total_bounds[[1, 3]]\n"
   ]
  },
  {
   "cell_type": "code",
   "execution_count": 250,
   "metadata": {},
   "outputs": [
    {
     "data": {
      "text/plain": [
       "array(['Africa', 'Asia', 'Americas', 'Europe', 'Oceania', 'Antarctica'],\n",
       "      dtype=object)"
      ]
     },
     "execution_count": 250,
     "metadata": {},
     "output_type": "execute_result"
    }
   ],
   "source": [
    "worldData['region_un'].unique()"
   ]
  },
  {
   "cell_type": "code",
   "execution_count": 251,
   "metadata": {},
   "outputs": [],
   "source": [
    "from matplotlib.colors import LinearSegmentedColormap"
   ]
  },
  {
   "cell_type": "code",
   "execution_count": 252,
   "metadata": {},
   "outputs": [],
   "source": [
    "hexCols = ['#CCCCFF', '#6495ED', '#DE3163', '#FF7F50', '#40E0D0', '#FFBF00']"
   ]
  },
  {
   "cell_type": "code",
   "execution_count": 253,
   "metadata": {},
   "outputs": [
    {
     "data": {
      "text/plain": [
       "6"
      ]
     },
     "execution_count": 253,
     "metadata": {},
     "output_type": "execute_result"
    }
   ],
   "source": [
    "len(hexCols)"
   ]
  },
  {
   "cell_type": "code",
   "execution_count": 254,
   "metadata": {},
   "outputs": [],
   "source": [
    "cmapHex = LinearSegmentedColormap.from_list(\"custom_cmap\", hexCols, N=6)"
   ]
  },
  {
   "cell_type": "code",
   "execution_count": 255,
   "metadata": {},
   "outputs": [
    {
     "name": "stderr",
     "output_type": "stream",
     "text": [
      "C:\\Users\\fernando.dorantes\\AppData\\Local\\Temp\\ipykernel_10052\\1504899061.py:29: DeprecationWarning: Starting with ImageIO v3 the behavior of this function will switch to that of iio.v3.imread. To keep the current behavior (and make this warning disappear) use `import imageio.v2 as imageio` or call `imageio.v2.imread` directly.\n",
      "  images_list.append(imageio.imread(filename))\n",
      "C:\\Users\\fernando.dorantes\\AppData\\Local\\Temp\\ipykernel_10052\\1504899061.py:29: DeprecationWarning: Starting with ImageIO v3 the behavior of this function will switch to that of iio.v3.imread. To keep the current behavior (and make this warning disappear) use `import imageio.v2 as imageio` or call `imageio.v2.imread` directly.\n",
      "  images_list.append(imageio.imread(filename))\n",
      "C:\\Users\\fernando.dorantes\\AppData\\Local\\Temp\\ipykernel_10052\\1504899061.py:29: DeprecationWarning: Starting with ImageIO v3 the behavior of this function will switch to that of iio.v3.imread. To keep the current behavior (and make this warning disappear) use `import imageio.v2 as imageio` or call `imageio.v2.imread` directly.\n",
      "  images_list.append(imageio.imread(filename))\n",
      "C:\\Users\\fernando.dorantes\\AppData\\Local\\Temp\\ipykernel_10052\\1504899061.py:29: DeprecationWarning: Starting with ImageIO v3 the behavior of this function will switch to that of iio.v3.imread. To keep the current behavior (and make this warning disappear) use `import imageio.v2 as imageio` or call `imageio.v2.imread` directly.\n",
      "  images_list.append(imageio.imread(filename))\n",
      "C:\\Users\\fernando.dorantes\\AppData\\Local\\Temp\\ipykernel_10052\\1504899061.py:29: DeprecationWarning: Starting with ImageIO v3 the behavior of this function will switch to that of iio.v3.imread. To keep the current behavior (and make this warning disappear) use `import imageio.v2 as imageio` or call `imageio.v2.imread` directly.\n",
      "  images_list.append(imageio.imread(filename))\n",
      "C:\\Users\\fernando.dorantes\\AppData\\Local\\Temp\\ipykernel_10052\\1504899061.py:29: DeprecationWarning: Starting with ImageIO v3 the behavior of this function will switch to that of iio.v3.imread. To keep the current behavior (and make this warning disappear) use `import imageio.v2 as imageio` or call `imageio.v2.imread` directly.\n",
      "  images_list.append(imageio.imread(filename))\n",
      "C:\\Users\\fernando.dorantes\\AppData\\Local\\Temp\\ipykernel_10052\\1504899061.py:29: DeprecationWarning: Starting with ImageIO v3 the behavior of this function will switch to that of iio.v3.imread. To keep the current behavior (and make this warning disappear) use `import imageio.v2 as imageio` or call `imageio.v2.imread` directly.\n",
      "  images_list.append(imageio.imread(filename))\n"
     ]
    }
   ],
   "source": [
    "\n",
    "for epsg_code, proj_name in projections.items():\n",
    "    # Transformar el GeoDataFrame a la proyección actual\n",
    "    world_projected = worldData.to_crs(epsg_code)\n",
    "    xlim = worldData.total_bounds[[0, 2]]\n",
    "    ylim = worldData.total_bounds[[1, 3]]\n",
    "    fig, ax = plt.subplots(1, 1, figsize=(12, 8))\n",
    "    ax.set_title(f\"World Map Projection: - {proj_name}\", fontsize=15)\n",
    "    \n",
    "    # Graficar el mapa con la proyección actual\n",
    "    world_projected.plot(column = 'region_un', ax=ax, cmap= cmapHex, edgecolor=\"black\", \n",
    "                         legend_kwds={'title': \"Continent\", 'loc': 'lower left'}, legend=True)\n",
    "    \n",
    "    #ax.set_xlim(xlim)\n",
    "    #ax.set_ylim(ylim) \n",
    "    \n",
    "    ax.set_axis_off()\n",
    "\n",
    "    plt.text(1, -0.1, \"Fuente: Natural Earth 2024 Autor: @FerDoranNie\", \n",
    "             fontsize=10, color='gray', ha='right', transform=ax.transAxes, weight='bold')\n",
    "\n",
    "    plt.text(1, -2, \"@FerDoranNie\", \n",
    "             fontsize=10, color='gray', ha='right', transform=ax.transAxes, weight='bold')\n",
    "\n",
    "    #ax.set_facecolor('#aac7cf')\n",
    "    #plt.figure(facecolor='#aac7cf')\n",
    "    filename = f\"map_{proj_name}.png\"\n",
    "    plt.savefig(filename, format=\"png\", dpi=100)\n",
    "    #plt.savefig(filename, format=\"png\", dpi=100, bbox_inches=\"tight\")\n",
    "    images_list.append(imageio.imread(filename))\n",
    "    plt.close()\n"
   ]
  },
  {
   "cell_type": "code",
   "execution_count": 256,
   "metadata": {},
   "outputs": [],
   "source": [
    "imageio.mimsave(\"../images/projection_map_animation.gif\", images_list, duration=2000)\n",
    "\n",
    "\n",
    "for filename in [f\"map_{proj_name}.png\" for proj_name in projections.values()]:\n",
    "    os.remove(filename)\n",
    "\n",
    "#print(\"Animación guardada como 'projection_map_animation.gif'\")"
   ]
  }
 ],
 "metadata": {
  "kernelspec": {
   "display_name": "generalenvironment",
   "language": "python",
   "name": "python3"
  },
  "language_info": {
   "codemirror_mode": {
    "name": "ipython",
    "version": 3
   },
   "file_extension": ".py",
   "mimetype": "text/x-python",
   "name": "python",
   "nbconvert_exporter": "python",
   "pygments_lexer": "ipython3",
   "version": "3.12.5"
  }
 },
 "nbformat": 4,
 "nbformat_minor": 2
}
