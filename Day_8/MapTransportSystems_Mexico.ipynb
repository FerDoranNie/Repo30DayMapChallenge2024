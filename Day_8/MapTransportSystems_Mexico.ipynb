{
 "cells": [
  {
   "cell_type": "code",
   "execution_count": null,
   "metadata": {},
   "outputs": [],
   "source": [
    "import os \n",
    "import pandas as pd\n",
    "import numpy as np \n",
    "import geopandas as gpd\n",
    "import json\n",
    "import matplotlib.pyplot as plt\n",
    "from cartopy import crs as ccrs"
   ]
  },
  {
   "cell_type": "code",
   "execution_count": 135,
   "metadata": {},
   "outputs": [],
   "source": [
    "## Functions\n",
    "def jsontoColumn(json_string):\n",
    "    try:\n",
    "        values = pd.json_normalize(json.loads(json_string))\n",
    "        return values \n",
    "    except (json.JSONDecodeError, TypeError):\n",
    "        return pd.DataFrame([{\"line\": None, \"line_url_name\": None, \"system\": None}]) "
   ]
  },
  {
   "cell_type": "code",
   "execution_count": 136,
   "metadata": {},
   "outputs": [],
   "source": [
    "dirMonterrey1 = '../Data/citylines_data/monterrey_stations.geojson'\n",
    "dirMonterrey2 = '../Data/citylines_data/monterrey_sections.geojson'\n",
    "dirGuadalajara1 = '../Data/citylines_data/guadalajara_stations.geojson'\n",
    "dirGuadalajara2 = '../Data/citylines_data/guadalajara_sections.geojson'\n",
    "dirCdmx1 = '../Data/citylines_data/mexico-city_stations.geojson'\n",
    "dirCdmx2 = '../Data/citylines_data/mexico-city_sections.geojson'\n",
    "dirMunicipality  = '../Data/mun23gw_c/mun23cw.shp'\n"
   ]
  },
  {
   "cell_type": "code",
   "execution_count": 137,
   "metadata": {},
   "outputs": [],
   "source": [
    "cdmxStations = gpd.read_file(dirCdmx1)\n",
    "cdmxSections = gpd.read_file(dirCdmx2)\n",
    "guadalajaraStations = gpd.read_file(dirGuadalajara1)\n",
    "guadalajaraSections = gpd.read_file(dirGuadalajara2)\n",
    "monterreyStations = gpd.read_file(dirMonterrey1)\n",
    "monterreySections = gpd.read_file(dirMonterrey2)\n",
    "\n",
    "cdmxStations['city_name'] = 'Mexico City'\n",
    "cdmxSections['city_name'] = 'Mexico City'\n",
    "guadalajaraStations['city_name'] = 'Guadalajara'\n",
    "guadalajaraSections['city_name'] = 'Guadalajara'\n",
    "monterreyStations['city_name'] = 'Monterrey'\n",
    "monterreySections['city_name'] = 'Monterrey'\n",
    "\n"
   ]
  },
  {
   "cell_type": "code",
   "execution_count": 138,
   "metadata": {},
   "outputs": [],
   "source": [
    "citiesStations = pd.concat([cdmxStations, guadalajaraStations, monterreyStations])\n",
    "\n",
    "citiesSections = pd.concat([cdmxSections, guadalajaraSections, monterreySections])\n",
    "\n",
    "linesStations = citiesStations['lines'].apply(jsontoColumn)\n",
    "\n",
    "linesStations = pd.concat(linesStations.tolist(), ignore_index=True)\n",
    "\n",
    "linesSections = citiesSections['lines'].apply(jsontoColumn)\n",
    "\n",
    "linesSections = pd.concat(linesSections.tolist(), ignore_index=True)\n"
   ]
  },
  {
   "cell_type": "code",
   "execution_count": 140,
   "metadata": {},
   "outputs": [
    {
     "name": "stdout",
     "output_type": "stream",
     "text": [
      "(490, 3)\n",
      "(489, 12)\n"
     ]
    }
   ],
   "source": [
    "print(linesStations.shape)\n",
    "print(citiesStations.shape)\n",
    "#linesStations.index = citiesStations.index\n"
   ]
  },
  {
   "cell_type": "code",
   "execution_count": 142,
   "metadata": {},
   "outputs": [],
   "source": [
    "citiesStations = pd.concat([citiesStations.reset_index(drop=True), linesStations.reset_index(drop=True)], axis=1).drop(columns=['lines'])\n",
    "citiesSections = pd.concat([citiesSections.reset_index(drop=True), linesSections.reset_index(drop=True)], axis=1).drop(columns=['lines'])"
   ]
  },
  {
   "cell_type": "code",
   "execution_count": 143,
   "metadata": {},
   "outputs": [],
   "source": [
    "citiesStations.columns = ['id_station', 'class_station', 'name_station', 'opening_station', 'buildstart_station', 'closure_station', 'geometry',\n",
    "                          'city_name', 'osm_id_station', 'osm_tags_station', 'osm_metadata_station', 'line_name_station', 'line_url_name_station', 'system']\n",
    "\n",
    "\n",
    "citiesSections.columns = ['id_section', 'class_section', 'length_section', 'opening_section', 'buildstart_section', 'closure_section', 'geometry', 'city_name',\n",
    "                          'osm_id_section', 'osm_tags_section', 'osm_metadata_section', 'line_name_section', 'line_url_name_section', 'system', 'from_section']"
   ]
  },
  {
   "cell_type": "code",
   "execution_count": null,
   "metadata": {},
   "outputs": [],
   "source": [
    "geojsonPath1 = '../Data/mexico_metropolitan_transport_stations.geojson'\n",
    "geojsonPath2 = '../Data/mexico_metropolitan_transport_sections.geojson'\n",
    "\n",
    "citiesStations.to_file(geojsonPath1, driver=\"GeoJSON\")\n",
    "citiesSections.to_file(geojsonPath2, driver=\"GeoJSON\")\n"
   ]
  }
 ],
 "metadata": {
  "kernelspec": {
   "display_name": "generalenvironment",
   "language": "python",
   "name": "python3"
  },
  "language_info": {
   "codemirror_mode": {
    "name": "ipython",
    "version": 3
   },
   "file_extension": ".py",
   "mimetype": "text/x-python",
   "name": "python",
   "nbconvert_exporter": "python",
   "pygments_lexer": "ipython3",
   "version": "3.12.5"
  }
 },
 "nbformat": 4,
 "nbformat_minor": 2
}
