{
 "cells": [
  {
   "cell_type": "code",
   "execution_count": 84,
   "metadata": {},
   "outputs": [],
   "source": [
    "import os\n",
    "import glob \n",
    "import pandas as pd \n",
    "import geopandas as gpd\n",
    "import re"
   ]
  },
  {
   "cell_type": "code",
   "execution_count": 85,
   "metadata": {},
   "outputs": [],
   "source": [
    "mainDir = '../Data/Day_30Data/'"
   ]
  },
  {
   "cell_type": "code",
   "execution_count": 86,
   "metadata": {},
   "outputs": [
    {
     "name": "stdout",
     "output_type": "stream",
     "text": [
      "Se encontraron 21 archivos SHP.\n"
     ]
    }
   ],
   "source": [
    "shp_files = glob.glob(os.path.join(mainDir, \"**/*.shp\"), recursive=True)\n",
    "\n",
    "print(f\"Se encontraron {len(shp_files)} archivos SHP.\")"
   ]
  },
  {
   "cell_type": "code",
   "execution_count": 87,
   "metadata": {},
   "outputs": [
    {
     "data": {
      "text/plain": [
       "['../Data/Day_30Data\\\\aal018dpagw\\\\amazona_albifrons.shp',\n",
       " '../Data/Day_30Data\\\\aau018dpagw\\\\amazona_auropalliata.shp',\n",
       " '../Data/Day_30Data\\\\aaut018dpagw\\\\amazona_autumnalis.shp',\n",
       " '../Data/Day_30Data\\\\afa018dpagw\\\\amazona_farinosa.shp',\n",
       " '../Data/Day_30Data\\\\afi018dpagw\\\\amazona_finschi.shp',\n",
       " '../Data/Day_30Data\\\\ama018dpagw\\\\ara_macao.shp',\n",
       " '../Data/Day_30Data\\\\ami018dpagw\\\\ara_militaris.shp',\n",
       " '../Data/Day_30Data\\\\aor018dpagw\\\\amazona_oratrix.shp',\n",
       " '../Data/Day_30Data\\\\avi018dpagw\\\\amazona_viridigenalis.shp',\n",
       " '../Data/Day_30Data\\\\axa018dpagw\\\\amazona_xantholora.shp',\n",
       " '../Data/Day_30Data\\\\bju018dpagw\\\\brotogeris_jugularis.shp',\n",
       " '../Data/Day_30Data\\\\bli018dpagw\\\\bolborhynchus_lineola.shp',\n",
       " '../Data/Day_30Data\\\\eca018dphgw\\\\eupsittula_canicularis.shp',\n",
       " '../Data/Day_30Data\\\\ena018dpagw\\\\eupsittula_nana.shp',\n",
       " '../Data/Day_30Data\\\\fcy018dpagw\\\\forpus_cyanopygius.shp',\n",
       " '../Data/Day_30Data\\\\pha018dpagw\\\\pyrilia_haematotis.shp',\n",
       " '../Data/Day_30Data\\\\pho018dpagw\\\\psittacara_holochlorus.shp',\n",
       " '../Data/Day_30Data\\\\pse018dpagw\\\\pionus_senilis.shp',\n",
       " '../Data/Day_30Data\\\\pst018dpagw\\\\psittacara_strenuus.shp',\n",
       " '../Data/Day_30Data\\\\rpa018dpagw\\\\rhynchopsitta_pachyrhyncha.shp',\n",
       " '../Data/Day_30Data\\\\rte018dpagw\\\\rhynchopsitta_terrisi.shp']"
      ]
     },
     "execution_count": 87,
     "metadata": {},
     "output_type": "execute_result"
    }
   ],
   "source": [
    "shp_files"
   ]
  },
  {
   "cell_type": "code",
   "execution_count": 88,
   "metadata": {},
   "outputs": [
    {
     "name": "stdout",
     "output_type": "stream",
     "text": [
      "amazona albifrons\n",
      "amazona auropalliata\n",
      "amazona autumnalis\n",
      "amazona farinosa\n",
      "amazona finschi\n",
      "ara macao\n",
      "ara militaris\n",
      "amazona oratrix\n",
      "amazona viridigenalis\n",
      "amazona xantholora\n",
      "brotogeris jugularis\n",
      "bolborhynchus lineola\n",
      "eupsittula canicularis\n",
      "eupsittula nana\n",
      "forpus cyanopygius\n",
      "pyrilia haematotis\n",
      "psittacara holochlorus\n",
      "pionus senilis\n",
      "psittacara strenuus\n",
      "rhynchopsitta pachyrhyncha\n",
      "rhynchopsitta terrisi\n"
     ]
    }
   ],
   "source": [
    "for shp_file in shp_files:\n",
    "    speciesName = os.path.splitext(os.path.basename(shp_file))[0]\n",
    "    speciesName = speciesName.replace('_', ' ')    \n",
    "    print(speciesName)"
   ]
  },
  {
   "cell_type": "code",
   "execution_count": 89,
   "metadata": {},
   "outputs": [
    {
     "name": "stdout",
     "output_type": "stream",
     "text": [
      "Archivo leído: ../Data/Day_30Data\\aal018dpagw\\amazona_albifrons.shp\n",
      "Archivo leído: ../Data/Day_30Data\\aau018dpagw\\amazona_auropalliata.shp\n",
      "Archivo leído: ../Data/Day_30Data\\aaut018dpagw\\amazona_autumnalis.shp\n",
      "Archivo leído: ../Data/Day_30Data\\afa018dpagw\\amazona_farinosa.shp\n",
      "Archivo leído: ../Data/Day_30Data\\afi018dpagw\\amazona_finschi.shp\n",
      "Archivo leído: ../Data/Day_30Data\\ama018dpagw\\ara_macao.shp\n",
      "Archivo leído: ../Data/Day_30Data\\ami018dpagw\\ara_militaris.shp\n",
      "Archivo leído: ../Data/Day_30Data\\aor018dpagw\\amazona_oratrix.shp\n",
      "Archivo leído: ../Data/Day_30Data\\avi018dpagw\\amazona_viridigenalis.shp\n",
      "Archivo leído: ../Data/Day_30Data\\axa018dpagw\\amazona_xantholora.shp\n",
      "Archivo leído: ../Data/Day_30Data\\bju018dpagw\\brotogeris_jugularis.shp\n",
      "Archivo leído: ../Data/Day_30Data\\bli018dpagw\\bolborhynchus_lineola.shp\n",
      "Archivo leído: ../Data/Day_30Data\\eca018dphgw\\eupsittula_canicularis.shp\n",
      "Archivo leído: ../Data/Day_30Data\\ena018dpagw\\eupsittula_nana.shp\n",
      "Archivo leído: ../Data/Day_30Data\\fcy018dpagw\\forpus_cyanopygius.shp\n",
      "Archivo leído: ../Data/Day_30Data\\pha018dpagw\\pyrilia_haematotis.shp\n",
      "Archivo leído: ../Data/Day_30Data\\pho018dpagw\\psittacara_holochlorus.shp\n",
      "Archivo leído: ../Data/Day_30Data\\pse018dpagw\\pionus_senilis.shp\n",
      "Archivo leído: ../Data/Day_30Data\\pst018dpagw\\psittacara_strenuus.shp\n",
      "Archivo leído: ../Data/Day_30Data\\rpa018dpagw\\rhynchopsitta_pachyrhyncha.shp\n",
      "Archivo leído: ../Data/Day_30Data\\rte018dpagw\\rhynchopsitta_terrisi.shp\n"
     ]
    }
   ],
   "source": [
    "geo_dataframes = []\n",
    "for shp_file in shp_files:\n",
    "    try:\n",
    "        speciesName = os.path.splitext(os.path.basename(shp_file))[0]\n",
    "        speciesName = speciesName.replace('_', ' ')    \n",
    "        gdf = gpd.read_file(shp_file)\n",
    "        gdf.columns =[x.lower() for x in gdf.columns]\n",
    "        gdf['especie'] = speciesName\n",
    "        geo_dataframes.append(gdf)\n",
    "        print(f\"Archivo leído: {shp_file}\")\n",
    "    except Exception as e:\n",
    "        print(f\"Error al leer {shp_file}: {e}\")"
   ]
  },
  {
   "cell_type": "code",
   "execution_count": 90,
   "metadata": {},
   "outputs": [],
   "source": [
    "mergedDataset = pd.concat(geo_dataframes, ignore_index=True)"
   ]
  },
  {
   "cell_type": "code",
   "execution_count": 91,
   "metadata": {},
   "outputs": [
    {
     "data": {
      "text/html": [
       "<div>\n",
       "<style scoped>\n",
       "    .dataframe tbody tr th:only-of-type {\n",
       "        vertical-align: middle;\n",
       "    }\n",
       "\n",
       "    .dataframe tbody tr th {\n",
       "        vertical-align: top;\n",
       "    }\n",
       "\n",
       "    .dataframe thead th {\n",
       "        text-align: right;\n",
       "    }\n",
       "</style>\n",
       "<table border=\"1\" class=\"dataframe\">\n",
       "  <thead>\n",
       "    <tr style=\"text-align: right;\">\n",
       "      <th></th>\n",
       "      <th>cov_</th>\n",
       "      <th>cov_id</th>\n",
       "      <th>value</th>\n",
       "      <th>geometry</th>\n",
       "      <th>especie</th>\n",
       "    </tr>\n",
       "  </thead>\n",
       "  <tbody>\n",
       "    <tr>\n",
       "      <th>0</th>\n",
       "      <td>1</td>\n",
       "      <td>2</td>\n",
       "      <td>0</td>\n",
       "      <td>POLYGON ((-109.19887 27.43681, -109.19887 27.4...</td>\n",
       "      <td>amazona albifrons</td>\n",
       "    </tr>\n",
       "    <tr>\n",
       "      <th>1</th>\n",
       "      <td>28</td>\n",
       "      <td>29</td>\n",
       "      <td>0</td>\n",
       "      <td>POLYGON ((-109.7322 29.02015, -109.74054 29.02...</td>\n",
       "      <td>amazona albifrons</td>\n",
       "    </tr>\n",
       "    <tr>\n",
       "      <th>2</th>\n",
       "      <td>39</td>\n",
       "      <td>40</td>\n",
       "      <td>1</td>\n",
       "      <td>POLYGON ((-109.59054 28.98681, -109.59887 28.9...</td>\n",
       "      <td>amazona albifrons</td>\n",
       "    </tr>\n",
       "    <tr>\n",
       "      <th>3</th>\n",
       "      <td>40</td>\n",
       "      <td>41</td>\n",
       "      <td>0</td>\n",
       "      <td>POLYGON ((-109.59054 28.99515, -109.57387 28.9...</td>\n",
       "      <td>amazona albifrons</td>\n",
       "    </tr>\n",
       "    <tr>\n",
       "      <th>4</th>\n",
       "      <td>48</td>\n",
       "      <td>49</td>\n",
       "      <td>1</td>\n",
       "      <td>POLYGON ((-109.5822 28.97015, -109.59054 28.97...</td>\n",
       "      <td>amazona albifrons</td>\n",
       "    </tr>\n",
       "  </tbody>\n",
       "</table>\n",
       "</div>"
      ],
      "text/plain": [
       "   cov_  cov_id  value                                           geometry  \\\n",
       "0     1       2      0  POLYGON ((-109.19887 27.43681, -109.19887 27.4...   \n",
       "1    28      29      0  POLYGON ((-109.7322 29.02015, -109.74054 29.02...   \n",
       "2    39      40      1  POLYGON ((-109.59054 28.98681, -109.59887 28.9...   \n",
       "3    40      41      0  POLYGON ((-109.59054 28.99515, -109.57387 28.9...   \n",
       "4    48      49      1  POLYGON ((-109.5822 28.97015, -109.59054 28.97...   \n",
       "\n",
       "             especie  \n",
       "0  amazona albifrons  \n",
       "1  amazona albifrons  \n",
       "2  amazona albifrons  \n",
       "3  amazona albifrons  \n",
       "4  amazona albifrons  "
      ]
     },
     "execution_count": 91,
     "metadata": {},
     "output_type": "execute_result"
    }
   ],
   "source": [
    "mergedDataset.head()"
   ]
  },
  {
   "cell_type": "code",
   "execution_count": 92,
   "metadata": {},
   "outputs": [],
   "source": [
    "speciesInformation = pd.read_csv('../Data/Day_30Data/parrots_information.csv')\n"
   ]
  },
  {
   "cell_type": "code",
   "execution_count": 93,
   "metadata": {},
   "outputs": [
    {
     "data": {
      "text/plain": [
       "(81435, 5)"
      ]
     },
     "execution_count": 93,
     "metadata": {},
     "output_type": "execute_result"
    }
   ],
   "source": [
    "mergedDataset.shape"
   ]
  },
  {
   "cell_type": "code",
   "execution_count": 94,
   "metadata": {},
   "outputs": [],
   "source": [
    "mergedDataset= pd.merge(mergedDataset, speciesInformation, left_on='especie', right_on='parrot_species')"
   ]
  },
  {
   "cell_type": "code",
   "execution_count": 95,
   "metadata": {},
   "outputs": [
    {
     "name": "stdout",
     "output_type": "stream",
     "text": [
      "<class 'geopandas.geodataframe.GeoDataFrame'>\n"
     ]
    }
   ],
   "source": [
    "print(type(mergedDataset))"
   ]
  },
  {
   "cell_type": "code",
   "execution_count": 96,
   "metadata": {},
   "outputs": [],
   "source": [
    "uniqueParrotFile = gpd.read_file('../Data/Day_30Data/psittacara_brevipes.geojson')"
   ]
  },
  {
   "cell_type": "code",
   "execution_count": 97,
   "metadata": {},
   "outputs": [],
   "source": [
    "uniqueParrotFile['especie'] = 'psittacara brevipes'"
   ]
  },
  {
   "cell_type": "code",
   "execution_count": 98,
   "metadata": {},
   "outputs": [],
   "source": [
    "uniqueParrotFile= pd.merge(uniqueParrotFile, speciesInformation, left_on='especie', right_on='parrot_species')"
   ]
  },
  {
   "cell_type": "code",
   "execution_count": 99,
   "metadata": {},
   "outputs": [],
   "source": [
    "#uniqueParrotFile.to_file('../Data/Day_30Data/all_parrots_information/psittacara brevipes.geojson', driver='GEOJSON')"
   ]
  },
  {
   "cell_type": "code",
   "execution_count": 100,
   "metadata": {},
   "outputs": [],
   "source": [
    "mergedDataset['polygon_type'] = mergedDataset.geom_type"
   ]
  },
  {
   "cell_type": "code",
   "execution_count": 101,
   "metadata": {},
   "outputs": [
    {
     "data": {
      "text/plain": [
       "array([], dtype=object)"
      ]
     },
     "execution_count": 101,
     "metadata": {},
     "output_type": "execute_result"
    }
   ],
   "source": [
    "mergedDataset[mergedDataset['polygon_type']=='Point']['especie'].unique()"
   ]
  },
  {
   "cell_type": "code",
   "execution_count": 102,
   "metadata": {},
   "outputs": [
    {
     "name": "stderr",
     "output_type": "stream",
     "text": [
      "C:\\Users\\fernando.dorantes\\AppData\\Local\\Temp\\ipykernel_11724\\3309555058.py:1: UserWarning: Column names longer than 10 characters will be truncated when saved to ESRI Shapefile.\n",
      "  mergedDataset.to_file('../Data/Day_30Data/all_parrots_information/Mexican_parrots_information.shp')\n",
      "c:\\Users\\fernando.dorantes\\local\\environments\\generalenvironment\\Lib\\site-packages\\pyogrio\\raw.py:723: RuntimeWarning: Normalized/laundered field name: 'parrot_species' to 'parrot_spe'\n",
      "  ogr_write(\n",
      "c:\\Users\\fernando.dorantes\\local\\environments\\generalenvironment\\Lib\\site-packages\\pyogrio\\raw.py:723: RuntimeWarning: Normalized/laundered field name: 'description' to 'descriptio'\n",
      "  ogr_write(\n",
      "c:\\Users\\fernando.dorantes\\local\\environments\\generalenvironment\\Lib\\site-packages\\pyogrio\\raw.py:723: RuntimeWarning: Normalized/laundered field name: 'mexican_presence' to 'mexican_pr'\n",
      "  ogr_write(\n",
      "c:\\Users\\fernando.dorantes\\local\\environments\\generalenvironment\\Lib\\site-packages\\pyogrio\\raw.py:723: RuntimeWarning: Normalized/laundered field name: 'new_scientific_name' to 'new_scient'\n",
      "  ogr_write(\n",
      "c:\\Users\\fernando.dorantes\\local\\environments\\generalenvironment\\Lib\\site-packages\\pyogrio\\raw.py:723: RuntimeWarning: Normalized/laundered field name: 'common_name' to 'common_nam'\n",
      "  ogr_write(\n",
      "c:\\Users\\fernando.dorantes\\local\\environments\\generalenvironment\\Lib\\site-packages\\pyogrio\\raw.py:723: RuntimeWarning: Normalized/laundered field name: 'polygon_type' to 'polygon_ty'\n",
      "  ogr_write(\n"
     ]
    }
   ],
   "source": [
    "mergedDataset.to_file('../Data/Day_30Data/all_parrots_information/Mexican_parrots_information.shp')"
   ]
  }
 ],
 "metadata": {
  "kernelspec": {
   "display_name": "generalenvironment",
   "language": "python",
   "name": "python3"
  },
  "language_info": {
   "codemirror_mode": {
    "name": "ipython",
    "version": 3
   },
   "file_extension": ".py",
   "mimetype": "text/x-python",
   "name": "python",
   "nbconvert_exporter": "python",
   "pygments_lexer": "ipython3",
   "version": "3.12.5"
  }
 },
 "nbformat": 4,
 "nbformat_minor": 2
}
