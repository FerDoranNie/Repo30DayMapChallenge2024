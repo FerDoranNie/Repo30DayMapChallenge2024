{
 "cells": [
  {
   "cell_type": "code",
   "execution_count": null,
   "metadata": {},
   "outputs": [],
   "source": [
    "import time\n",
    "from selenium import webdriver\n",
    "from selenium.webdriver.firefox.service import Service\n",
    "from selenium.webdriver.common.by import By\n",
    "from selenium.webdriver.support.ui import WebDriverWait\n",
    "from selenium.webdriver.support import expected_conditions as EC\n"
   ]
  },
  {
   "cell_type": "code",
   "execution_count": null,
   "metadata": {},
   "outputs": [],
   "source": [
    "from selenium.webdriver.common.action_chains import ActionChains\n",
    "from selenium.webdriver.common.keys import Keys"
   ]
  },
  {
   "cell_type": "code",
   "execution_count": null,
   "metadata": {},
   "outputs": [],
   "source": [
    "import datetime\n",
    "from dateutil.relativedelta import relativedelta"
   ]
  },
  {
   "cell_type": "code",
   "execution_count": null,
   "metadata": {},
   "outputs": [],
   "source": [
    "geckoDriver ='C:/Users/fernando.dorantes/local/web_scrapping_drivers/geckodriver-v0.35.0-win32/geckodriver.exe'\n",
    "firefoxLocation = 'C:/Program Files/Mozilla Firefox/firefox.exe'\n",
    "\n",
    "firefox_options = webdriver.FirefoxOptions()\n",
    "firefox_options.set_preference(\"browser.download.folderList\", 2)\n",
    "firefox_options.set_preference(\"browser.download.dir\", \"C:/Users/fernando.dorantes/local/Git_repositories/Repo30DayMapChallenge2024/Data/Cutzamala_status_historical\")  \n",
    "firefox_options.set_preference(\"browser.helperApps.neverAsk.saveToDisk\", \"text/csv,application/vnd.ms-excel\")  \n",
    "firefox_options.binary_location = firefoxLocation"
   ]
  },
  {
   "cell_type": "code",
   "execution_count": null,
   "metadata": {},
   "outputs": [],
   "source": [
    "#service = Service(geckoDriver)\n"
   ]
  },
  {
   "cell_type": "code",
   "execution_count": null,
   "metadata": {},
   "outputs": [],
   "source": [
    "mainWebPage = 'https://sinav30.conagua.gob.mx:8080/Presas/'\n"
   ]
  },
  {
   "cell_type": "code",
   "execution_count": null,
   "metadata": {},
   "outputs": [],
   "source": [
    "listDates = []\n",
    "today = datetime.date.today()\n"
   ]
  },
  {
   "cell_type": "code",
   "execution_count": null,
   "metadata": {},
   "outputs": [],
   "source": [
    "initialDate = datetime.date(2019, 2, 1)\n",
    "while initialDate<= today:\n",
    "    listDates.append(initialDate)\n",
    "    initialDate += relativedelta(months=1)"
   ]
  },
  {
   "cell_type": "code",
   "execution_count": null,
   "metadata": {},
   "outputs": [],
   "source": [
    "import numpy as np \n",
    "np.max(listDates)"
   ]
  },
  {
   "cell_type": "code",
   "execution_count": null,
   "metadata": {},
   "outputs": [],
   "source": [
    "for i in listDates:\n",
    "    try:\n",
    "        service = Service(geckoDriver)\n",
    "        yearInput = i.year\n",
    "        monthInput = i.month\n",
    "        dayInput = i.day\n",
    "        print(f'Date to be evaluated: {i}, {yearInput}, {monthInput}, {dayInput}')\n",
    "        driver = webdriver.Firefox(service=service, options=firefox_options) \n",
    "        driver.get(mainWebPage)\n",
    "        driver.execute_script(\"window.stop();\")    \n",
    "        time.sleep(3)\n",
    "        # Insertar el mes\n",
    "        month_field = driver.find_element(By.CSS_SELECTOR, \".react-date-picker__inputGroup__month\")\n",
    "        month_field.clear()\n",
    "        month_field.send_keys(str(monthInput))  # Mes\n",
    "\n",
    "        # Insertar el día\n",
    "        day_field = driver.find_element(By.CSS_SELECTOR, \".react-date-picker__inputGroup__day\")\n",
    "        day_field.clear()\n",
    "        day_field.send_keys(str(dayInput))  # Día\n",
    "\n",
    "        # Insertar el año\n",
    "        year_field = driver.find_element(By.CSS_SELECTOR, \".react-date-picker__inputGroup__year\")\n",
    "        year_field.clear()\n",
    "        year_field.send_keys(str(yearInput))  # Año\n",
    "        time.sleep(5)    \n",
    "        actions = ActionChains(driver)\n",
    "\n",
    "        # Enviar la tecla Escape globalmente\n",
    "        actions.send_keys(Keys.ESCAPE).perform()\n",
    "        #driver.find_element(By.CSS_SELECTOR, '.react-date-picker__calendar-button__icon').click()\n",
    "        #driver.find_element(By.TAG_NAME , 'body').click()\n",
    "        time.sleep(5)\n",
    "        driver.find_element(By.TAG_NAME , 'body').click()\n",
    "        driver.find_element(By.CSS_SELECTOR, '.react-date-picker__calendar-button__icon').click()\n",
    "        driver.find_element(By.TAG_NAME , 'body').click()\n",
    "        reportElement = driver.find_elements(By.XPATH, \"//*[contains(text(), 'Reporte')]\")\n",
    "        reportElement[0].click()\n",
    "        linkCsv = driver.find_element(By.CSS_SELECTOR, 'div.col-1:nth-child(3)')\n",
    "        linkCsv.click()\n",
    "        print(linkCsv.get_attribute(\"href\"))\n",
    "        driver.find_element(By.CSS_SELECTOR, '.btn-close').click()\n",
    "        driver.quit()\n",
    "        time.sleep(5)\n",
    "    except Exception:\n",
    "        break"
   ]
  },
  {
   "cell_type": "code",
   "execution_count": null,
   "metadata": {},
   "outputs": [],
   "source": [
    "'''\n",
    "for element in test:\n",
    "    #print(element.get_attribute('name') or element.text.lower())\n",
    "    field_type = element.get_attribute('name') or element.text.lower()\n",
    "    print(field_type)\n",
    "    if 'year' in field_type:\n",
    "        element.send_keys(2024)\n",
    "    elif 'month' in field_type:\n",
    "        element.send_keys(1)\n",
    "    elif 'day' in field_type:\n",
    "        element.send_keys(1)    \n",
    "'''"
   ]
  }
 ],
 "metadata": {
  "kernelspec": {
   "display_name": "generalenvironment",
   "language": "python",
   "name": "python3"
  },
  "language_info": {
   "codemirror_mode": {
    "name": "ipython",
    "version": 3
   },
   "file_extension": ".py",
   "mimetype": "text/x-python",
   "name": "python",
   "nbconvert_exporter": "python",
   "pygments_lexer": "ipython3",
   "version": "3.12.5"
  }
 },
 "nbformat": 4,
 "nbformat_minor": 2
}
