{
 "cells": [
  {
   "cell_type": "code",
   "execution_count": 222,
   "metadata": {},
   "outputs": [],
   "source": [
    "import pandas as pd \n",
    "import numpy as np \n",
    "import os \n",
    "import re \n",
    "import unidecode"
   ]
  },
  {
   "cell_type": "code",
   "execution_count": 223,
   "metadata": {},
   "outputs": [],
   "source": [
    "folderPath = 'C:/Users/fernando.dorantes/local/Git_repositories/Repo30DayMapChallenge2024/Data/Mexico_dams_status_historical'\n"
   ]
  },
  {
   "cell_type": "code",
   "execution_count": 224,
   "metadata": {},
   "outputs": [],
   "source": [
    "listFiles = os.scandir(folderPath)"
   ]
  },
  {
   "cell_type": "code",
   "execution_count": 225,
   "metadata": {},
   "outputs": [],
   "source": [
    "maindf =[]\n",
    "for file in listFiles:\n",
    "    dateStr = file.path.split('_')[-1].split('.')[0]\n",
    "    df = pd.read_csv(file.path, sep=',')\n",
    "    df['date'] = dateStr\n",
    "    maindf.append(df)\n",
    "    "
   ]
  },
  {
   "cell_type": "code",
   "execution_count": null,
   "metadata": {},
   "outputs": [],
   "source": [
    "dataCutzamala = pd.concat(maindf) "
   ]
  },
  {
   "cell_type": "code",
   "execution_count": 227,
   "metadata": {},
   "outputs": [],
   "source": [
    "dataCutzamala.columns = [str(x).lower().replace(',', '').replace('(', '').replace(')', '').replace('³', '3') for x in  dataCutzamala.columns]\n",
    "dataCutzamala.columns = dataCutzamala.columns.str.replace(' ', '_')\n",
    "\n",
    "dataCutzamala.columns = [unidecode.unidecode(str(x)) for x in dataCutzamala.columns]\n",
    "\n",
    "dataCutzamala.rename(columns={'#': 'original_index', '%_de_llenado_actual': 'porcentaje_de_llenado_actual'}, inplace=True)\n"
   ]
  },
  {
   "cell_type": "code",
   "execution_count": 228,
   "metadata": {},
   "outputs": [
    {
     "data": {
      "text/html": [
       "<div>\n",
       "<style scoped>\n",
       "    .dataframe tbody tr th:only-of-type {\n",
       "        vertical-align: middle;\n",
       "    }\n",
       "\n",
       "    .dataframe tbody tr th {\n",
       "        vertical-align: top;\n",
       "    }\n",
       "\n",
       "    .dataframe thead th {\n",
       "        text-align: right;\n",
       "    }\n",
       "</style>\n",
       "<table border=\"1\" class=\"dataframe\">\n",
       "  <thead>\n",
       "    <tr style=\"text-align: right;\">\n",
       "      <th></th>\n",
       "      <th>original_index</th>\n",
       "      <th>nombre_de_presa</th>\n",
       "      <th>nombre_comun</th>\n",
       "      <th>organismo_de_cuenca</th>\n",
       "      <th>entidad_federativa</th>\n",
       "      <th>name_elevacion_msnm</th>\n",
       "      <th>name_almacenamiento_hm3</th>\n",
       "      <th>namo_elevacion_msnm</th>\n",
       "      <th>namo_almacenamiento_hm3</th>\n",
       "      <th>elevacion_actual_msnm</th>\n",
       "      <th>almacenamiento_actual_hm3</th>\n",
       "      <th>porcentaje_de_llenado_actual</th>\n",
       "      <th>date</th>\n",
       "    </tr>\n",
       "  </thead>\n",
       "  <tbody>\n",
       "    <tr>\n",
       "      <th>0</th>\n",
       "      <td>195</td>\n",
       "      <td>Ing. Fernando Hiriart Balderrama, Hgo.        ...</td>\n",
       "      <td>Zimapán                                       ...</td>\n",
       "      <td>Golfo Norte</td>\n",
       "      <td>Hidalgo</td>\n",
       "      <td>1563.00</td>\n",
       "      <td>1460.110</td>\n",
       "      <td>1560.00</td>\n",
       "      <td>1390.110</td>\n",
       "      <td>1555.57</td>\n",
       "      <td>1286.340</td>\n",
       "      <td>93</td>\n",
       "      <td>2019-01-01</td>\n",
       "    </tr>\n",
       "    <tr>\n",
       "      <th>1</th>\n",
       "      <td>194</td>\n",
       "      <td>Zicuirán, Mich.                               ...</td>\n",
       "      <td>La Peña                                       ...</td>\n",
       "      <td>Balsas</td>\n",
       "      <td>Michoacán</td>\n",
       "      <td>301.44</td>\n",
       "      <td>47.485</td>\n",
       "      <td>299.00</td>\n",
       "      <td>36.294</td>\n",
       "      <td>298.88</td>\n",
       "      <td>35.813</td>\n",
       "      <td>99</td>\n",
       "      <td>2019-01-01</td>\n",
       "    </tr>\n",
       "    <tr>\n",
       "      <th>2</th>\n",
       "      <td>193</td>\n",
       "      <td>Villa Victoria, Méx.                          ...</td>\n",
       "      <td>Villa Victoria                                ...</td>\n",
       "      <td>Balsas</td>\n",
       "      <td>México</td>\n",
       "      <td>2607.50</td>\n",
       "      <td>252.030</td>\n",
       "      <td>2605.50</td>\n",
       "      <td>185.723</td>\n",
       "      <td>2605.20</td>\n",
       "      <td>176.846</td>\n",
       "      <td>95</td>\n",
       "      <td>2019-01-01</td>\n",
       "    </tr>\n",
       "    <tr>\n",
       "      <th>3</th>\n",
       "      <td>192</td>\n",
       "      <td>Valerio Trujano, Gro.                         ...</td>\n",
       "      <td>Tepecoacuilco                                 ...</td>\n",
       "      <td>Balsas</td>\n",
       "      <td>Guerrero</td>\n",
       "      <td>842.78</td>\n",
       "      <td>51.650</td>\n",
       "      <td>840.00</td>\n",
       "      <td>31.014</td>\n",
       "      <td>838.60</td>\n",
       "      <td>23.377</td>\n",
       "      <td>75</td>\n",
       "      <td>2019-01-01</td>\n",
       "    </tr>\n",
       "    <tr>\n",
       "      <th>4</th>\n",
       "      <td>191</td>\n",
       "      <td>La Venta, Qro.                                ...</td>\n",
       "      <td>La Venta                                      ...</td>\n",
       "      <td>Golfo Norte</td>\n",
       "      <td>Querétaro</td>\n",
       "      <td>1907.68</td>\n",
       "      <td>3.777</td>\n",
       "      <td>1906.68</td>\n",
       "      <td>2.479</td>\n",
       "      <td>1905.06</td>\n",
       "      <td>0.642</td>\n",
       "      <td>26</td>\n",
       "      <td>2019-01-01</td>\n",
       "    </tr>\n",
       "  </tbody>\n",
       "</table>\n",
       "</div>"
      ],
      "text/plain": [
       "   original_index                                    nombre_de_presa  \\\n",
       "0             195  Ing. Fernando Hiriart Balderrama, Hgo.        ...   \n",
       "1             194  Zicuirán, Mich.                               ...   \n",
       "2             193  Villa Victoria, Méx.                          ...   \n",
       "3             192  Valerio Trujano, Gro.                         ...   \n",
       "4             191  La Venta, Qro.                                ...   \n",
       "\n",
       "                                        nombre_comun organismo_de_cuenca  \\\n",
       "0  Zimapán                                       ...         Golfo Norte   \n",
       "1  La Peña                                       ...              Balsas   \n",
       "2  Villa Victoria                                ...              Balsas   \n",
       "3  Tepecoacuilco                                 ...              Balsas   \n",
       "4  La Venta                                      ...         Golfo Norte   \n",
       "\n",
       "  entidad_federativa  name_elevacion_msnm  name_almacenamiento_hm3  \\\n",
       "0            Hidalgo              1563.00                 1460.110   \n",
       "1          Michoacán               301.44                   47.485   \n",
       "2             México              2607.50                  252.030   \n",
       "3           Guerrero               842.78                   51.650   \n",
       "4          Querétaro              1907.68                    3.777   \n",
       "\n",
       "   namo_elevacion_msnm  namo_almacenamiento_hm3  elevacion_actual_msnm  \\\n",
       "0              1560.00                 1390.110                1555.57   \n",
       "1               299.00                   36.294                 298.88   \n",
       "2              2605.50                  185.723                2605.20   \n",
       "3               840.00                   31.014                 838.60   \n",
       "4              1906.68                    2.479                1905.06   \n",
       "\n",
       "   almacenamiento_actual_hm3 porcentaje_de_llenado_actual        date  \n",
       "0                   1286.340                           93  2019-01-01  \n",
       "1                     35.813                           99  2019-01-01  \n",
       "2                    176.846                           95  2019-01-01  \n",
       "3                     23.377                           75  2019-01-01  \n",
       "4                      0.642                           26  2019-01-01  "
      ]
     },
     "execution_count": 228,
     "metadata": {},
     "output_type": "execute_result"
    }
   ],
   "source": [
    "dataCutzamala.head()"
   ]
  },
  {
   "cell_type": "code",
   "execution_count": 229,
   "metadata": {},
   "outputs": [],
   "source": [
    "damsData  = pd.read_csv(\"C:/Users/fernando.dorantes/local/Git_repositories/Repo30DayMapChallenge2024/Data/Principales Presas de México.csv\")"
   ]
  },
  {
   "cell_type": "code",
   "execution_count": 230,
   "metadata": {},
   "outputs": [],
   "source": [
    "selectedCols = ['idmonitoreodiario', 'fechamonitoreo',\t'clavesih',\t'nombreoficial',\t'nombrecomun',\t'estado',\n",
    "                'nommunicipio',\t'regioncna',\t'latitud',\t'longitud',\t'uso',\t'corriente',\t'tipovertedor',\t'inicioop']"
   ]
  },
  {
   "cell_type": "code",
   "execution_count": 231,
   "metadata": {},
   "outputs": [],
   "source": [
    "damsData = damsData[selectedCols]"
   ]
  },
  {
   "cell_type": "code",
   "execution_count": 232,
   "metadata": {},
   "outputs": [],
   "source": [
    "selectedStr = ['El Bosque, Mich.', 'Valle de Bravo, Méx.', 'Villa Victoria, Méx.']"
   ]
  },
  {
   "cell_type": "code",
   "execution_count": 233,
   "metadata": {},
   "outputs": [],
   "source": [
    "dataCutzamala = dataCutzamala[dataCutzamala['nombre_de_presa'].isin(selectedStr)] "
   ]
  },
  {
   "cell_type": "code",
   "execution_count": 234,
   "metadata": {},
   "outputs": [],
   "source": [
    "selectedDams = ['DBOMC', 'VVCMX', 'VBRMX']\n",
    "damsData = damsData[damsData['clavesih'].isin(selectedDams)]"
   ]
  },
  {
   "cell_type": "code",
   "execution_count": 235,
   "metadata": {},
   "outputs": [],
   "source": [
    "dataCutzamala['clavesih'] = np.where(dataCutzamala['nombre_de_presa']=='El Bosque, Mich.', 'DBOMC',\n",
    "                                     np.where(dataCutzamala['nombre_de_presa']=='Valle de Bravo, Méx.', 'VBRMX', 'VVCMX'))"
   ]
  },
  {
   "cell_type": "code",
   "execution_count": null,
   "metadata": {},
   "outputs": [
    {
     "data": {
      "text/plain": [
       "array(['VVCMX', 'VBRMX', 'DBOMC'], dtype=object)"
      ]
     },
     "execution_count": 236,
     "metadata": {},
     "output_type": "execute_result"
    }
   ],
   "source": [
    "dataCutzamala['clavesih'].unique() "
   ]
  },
  {
   "cell_type": "code",
   "execution_count": 237,
   "metadata": {},
   "outputs": [
    {
     "data": {
      "text/plain": [
       "array(['DBOMC', 'VBRMX', 'VVCMX'], dtype=object)"
      ]
     },
     "execution_count": 237,
     "metadata": {},
     "output_type": "execute_result"
    }
   ],
   "source": [
    "damsData['clavesih'].unique()"
   ]
  },
  {
   "cell_type": "code",
   "execution_count": 238,
   "metadata": {},
   "outputs": [],
   "source": [
    "mainDataCutzamala = pd.merge(dataCutzamala, damsData, on='clavesih')"
   ]
  },
  {
   "cell_type": "code",
   "execution_count": 239,
   "metadata": {},
   "outputs": [],
   "source": [
    "mainDataCutzamala['date']= pd.to_datetime(mainDataCutzamala['date'])"
   ]
  },
  {
   "cell_type": "code",
   "execution_count": null,
   "metadata": {},
   "outputs": [
    {
     "data": {
      "text/html": [
       "<div>\n",
       "<style scoped>\n",
       "    .dataframe tbody tr th:only-of-type {\n",
       "        vertical-align: middle;\n",
       "    }\n",
       "\n",
       "    .dataframe tbody tr th {\n",
       "        vertical-align: top;\n",
       "    }\n",
       "\n",
       "    .dataframe thead th {\n",
       "        text-align: right;\n",
       "    }\n",
       "</style>\n",
       "<table border=\"1\" class=\"dataframe\">\n",
       "  <thead>\n",
       "    <tr style=\"text-align: right;\">\n",
       "      <th></th>\n",
       "      <th>original_index</th>\n",
       "      <th>nombre_de_presa</th>\n",
       "      <th>nombre_comun</th>\n",
       "      <th>organismo_de_cuenca</th>\n",
       "      <th>entidad_federativa</th>\n",
       "      <th>name_elevacion_msnm</th>\n",
       "      <th>name_almacenamiento_hm3</th>\n",
       "      <th>namo_elevacion_msnm</th>\n",
       "      <th>namo_almacenamiento_hm3</th>\n",
       "      <th>elevacion_actual_msnm</th>\n",
       "      <th>...</th>\n",
       "      <th>nombrecomun</th>\n",
       "      <th>estado</th>\n",
       "      <th>nommunicipio</th>\n",
       "      <th>regioncna</th>\n",
       "      <th>latitud</th>\n",
       "      <th>longitud</th>\n",
       "      <th>uso</th>\n",
       "      <th>corriente</th>\n",
       "      <th>tipovertedor</th>\n",
       "      <th>inicioop</th>\n",
       "    </tr>\n",
       "  </thead>\n",
       "  <tbody>\n",
       "    <tr>\n",
       "      <th>0</th>\n",
       "      <td>193</td>\n",
       "      <td>Villa Victoria, Méx.</td>\n",
       "      <td>Villa Victoria</td>\n",
       "      <td>Balsas</td>\n",
       "      <td>México</td>\n",
       "      <td>2607.5</td>\n",
       "      <td>249.943</td>\n",
       "      <td>2605.5</td>\n",
       "      <td>185.723</td>\n",
       "      <td>2604.41</td>\n",
       "      <td>...</td>\n",
       "      <td>Villa Victoria,Méx.</td>\n",
       "      <td>México</td>\n",
       "      <td>Villa Victoria</td>\n",
       "      <td>Balsas</td>\n",
       "      <td>19.461667</td>\n",
       "      <td>-100.055556</td>\n",
       "      <td>AP</td>\n",
       "      <td>R. San Juan Malacate</td>\n",
       "      <td>Libre</td>\n",
       "      <td>1944.0</td>\n",
       "    </tr>\n",
       "    <tr>\n",
       "      <th>1</th>\n",
       "      <td>182</td>\n",
       "      <td>Valle de Bravo, Méx.</td>\n",
       "      <td>Valle de Bravo</td>\n",
       "      <td>Balsas</td>\n",
       "      <td>México</td>\n",
       "      <td>1833.0</td>\n",
       "      <td>449.420</td>\n",
       "      <td>1830.0</td>\n",
       "      <td>394.390</td>\n",
       "      <td>1827.48</td>\n",
       "      <td>...</td>\n",
       "      <td>Valle de Bravo, Méx.</td>\n",
       "      <td>México</td>\n",
       "      <td>Valle de Bravo</td>\n",
       "      <td>Balsas</td>\n",
       "      <td>19.207500</td>\n",
       "      <td>-100.180000</td>\n",
       "      <td>AP</td>\n",
       "      <td>R. Valle de Bravo</td>\n",
       "      <td>Libre</td>\n",
       "      <td>1947.0</td>\n",
       "    </tr>\n",
       "    <tr>\n",
       "      <th>2</th>\n",
       "      <td>45</td>\n",
       "      <td>El Bosque, Mich.</td>\n",
       "      <td>El Bosque</td>\n",
       "      <td>Balsas</td>\n",
       "      <td>Michoacán</td>\n",
       "      <td>1743.0</td>\n",
       "      <td>250.500</td>\n",
       "      <td>1741.4</td>\n",
       "      <td>202.515</td>\n",
       "      <td>1735.09</td>\n",
       "      <td>...</td>\n",
       "      <td>El Bosque, Mich.</td>\n",
       "      <td>Michoacán</td>\n",
       "      <td>Zitácuaro</td>\n",
       "      <td>Balsas</td>\n",
       "      <td>19.387778</td>\n",
       "      <td>-100.421111</td>\n",
       "      <td>AP</td>\n",
       "      <td>Río San Juan</td>\n",
       "      <td>Libre</td>\n",
       "      <td>1954.0</td>\n",
       "    </tr>\n",
       "    <tr>\n",
       "      <th>3</th>\n",
       "      <td>193</td>\n",
       "      <td>Villa Victoria, Méx.</td>\n",
       "      <td>Villa Victoria</td>\n",
       "      <td>Balsas</td>\n",
       "      <td>México</td>\n",
       "      <td>2607.5</td>\n",
       "      <td>249.943</td>\n",
       "      <td>2605.5</td>\n",
       "      <td>185.723</td>\n",
       "      <td>2603.98</td>\n",
       "      <td>...</td>\n",
       "      <td>Villa Victoria,Méx.</td>\n",
       "      <td>México</td>\n",
       "      <td>Villa Victoria</td>\n",
       "      <td>Balsas</td>\n",
       "      <td>19.461667</td>\n",
       "      <td>-100.055556</td>\n",
       "      <td>AP</td>\n",
       "      <td>R. San Juan Malacate</td>\n",
       "      <td>Libre</td>\n",
       "      <td>1944.0</td>\n",
       "    </tr>\n",
       "    <tr>\n",
       "      <th>4</th>\n",
       "      <td>182</td>\n",
       "      <td>Valle de Bravo, Méx.</td>\n",
       "      <td>Valle de Bravo</td>\n",
       "      <td>Balsas</td>\n",
       "      <td>México</td>\n",
       "      <td>1833.0</td>\n",
       "      <td>449.420</td>\n",
       "      <td>1830.0</td>\n",
       "      <td>394.390</td>\n",
       "      <td>1826.57</td>\n",
       "      <td>...</td>\n",
       "      <td>Valle de Bravo, Méx.</td>\n",
       "      <td>México</td>\n",
       "      <td>Valle de Bravo</td>\n",
       "      <td>Balsas</td>\n",
       "      <td>19.207500</td>\n",
       "      <td>-100.180000</td>\n",
       "      <td>AP</td>\n",
       "      <td>R. Valle de Bravo</td>\n",
       "      <td>Libre</td>\n",
       "      <td>1947.0</td>\n",
       "    </tr>\n",
       "  </tbody>\n",
       "</table>\n",
       "<p>5 rows × 27 columns</p>\n",
       "</div>"
      ],
      "text/plain": [
       "   original_index       nombre_de_presa    nombre_comun organismo_de_cuenca  \\\n",
       "0             193  Villa Victoria, Méx.  Villa Victoria              Balsas   \n",
       "1             182  Valle de Bravo, Méx.  Valle de Bravo              Balsas   \n",
       "2              45      El Bosque, Mich.       El Bosque              Balsas   \n",
       "3             193  Villa Victoria, Méx.  Villa Victoria              Balsas   \n",
       "4             182  Valle de Bravo, Méx.  Valle de Bravo              Balsas   \n",
       "\n",
       "  entidad_federativa  name_elevacion_msnm  name_almacenamiento_hm3  \\\n",
       "0             México               2607.5                  249.943   \n",
       "1             México               1833.0                  449.420   \n",
       "2          Michoacán               1743.0                  250.500   \n",
       "3             México               2607.5                  249.943   \n",
       "4             México               1833.0                  449.420   \n",
       "\n",
       "   namo_elevacion_msnm  namo_almacenamiento_hm3  elevacion_actual_msnm  ...  \\\n",
       "0               2605.5                  185.723                2604.41  ...   \n",
       "1               1830.0                  394.390                1827.48  ...   \n",
       "2               1741.4                  202.515                1735.09  ...   \n",
       "3               2605.5                  185.723                2603.98  ...   \n",
       "4               1830.0                  394.390                1826.57  ...   \n",
       "\n",
       "            nombrecomun     estado    nommunicipio regioncna    latitud  \\\n",
       "0   Villa Victoria,Méx.     México  Villa Victoria    Balsas  19.461667   \n",
       "1  Valle de Bravo, Méx.     México  Valle de Bravo    Balsas  19.207500   \n",
       "2      El Bosque, Mich.  Michoacán       Zitácuaro    Balsas  19.387778   \n",
       "3   Villa Victoria,Méx.     México  Villa Victoria    Balsas  19.461667   \n",
       "4  Valle de Bravo, Méx.     México  Valle de Bravo    Balsas  19.207500   \n",
       "\n",
       "     longitud uso             corriente tipovertedor inicioop  \n",
       "0 -100.055556  AP  R. San Juan Malacate        Libre   1944.0  \n",
       "1 -100.180000  AP     R. Valle de Bravo        Libre   1947.0  \n",
       "2 -100.421111  AP          Río San Juan        Libre   1954.0  \n",
       "3 -100.055556  AP  R. San Juan Malacate        Libre   1944.0  \n",
       "4 -100.180000  AP     R. Valle de Bravo        Libre   1947.0  \n",
       "\n",
       "[5 rows x 27 columns]"
      ]
     },
     "execution_count": 240,
     "metadata": {},
     "output_type": "execute_result"
    }
   ],
   "source": [
    "mainDataCutzamala.to_csv('C:/Users/fernando.dorantes/local/Git_repositories/Repo30DayMapChallenge2024/Data/Mexico_dams_status_historical/Cutzamala_historical_data.csv',\n",
    "                         index=False)"
   ]
  }
 ],
 "metadata": {
  "kernelspec": {
   "display_name": "generalenvironment",
   "language": "python",
   "name": "python3"
  },
  "language_info": {
   "codemirror_mode": {
    "name": "ipython",
    "version": 3
   },
   "file_extension": ".py",
   "mimetype": "text/x-python",
   "name": "python",
   "nbconvert_exporter": "python",
   "pygments_lexer": "ipython3",
   "version": "3.12.5"
  }
 },
 "nbformat": 4,
 "nbformat_minor": 2
}
